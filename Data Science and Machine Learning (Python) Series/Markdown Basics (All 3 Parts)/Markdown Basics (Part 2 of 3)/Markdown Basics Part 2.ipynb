{
 "cells": [
  {
   "cell_type": "code",
   "execution_count": 1,
   "metadata": {},
   "outputs": [],
   "source": [
    "A = 100"
   ]
  },
  {
   "cell_type": "code",
   "execution_count": 2,
   "metadata": {},
   "outputs": [
    {
     "data": {
      "text/plain": [
       "100"
      ]
     },
     "execution_count": 2,
     "metadata": {},
     "output_type": "execute_result"
    }
   ],
   "source": [
    "A"
   ]
  },
  {
   "cell_type": "code",
   "execution_count": 3,
   "metadata": {},
   "outputs": [
    {
     "name": "stdout",
     "output_type": "stream",
     "text": [
      "100\n"
     ]
    }
   ],
   "source": [
    "print(A)"
   ]
  },
  {
   "cell_type": "code",
   "execution_count": 4,
   "metadata": {},
   "outputs": [
    {
     "name": "stdout",
     "output_type": "stream",
     "text": [
      "A\n"
     ]
    }
   ],
   "source": [
    "print(\"A\")"
   ]
  },
  {
   "cell_type": "code",
   "execution_count": 5,
   "metadata": {},
   "outputs": [],
   "source": [
    "C = 10"
   ]
  },
  {
   "cell_type": "code",
   "execution_count": 6,
   "metadata": {},
   "outputs": [
    {
     "data": {
      "text/plain": [
       "10"
      ]
     },
     "execution_count": 6,
     "metadata": {},
     "output_type": "execute_result"
    }
   ],
   "source": [
    "C"
   ]
  },
  {
   "cell_type": "markdown",
   "metadata": {},
   "source": [
    "Markdown is a lightweight and popular Markup language which is a writing standard for data scientists and analysts. It is often converted into the corresponding HTML which by the Markdown processor allows it to be easily shared between different devices and people. The Markup language is similar to the Hypertext Markup Language (HTML) and it is made up of Markup tags, and it consists of the opening tag and closing tag."
   ]
  },
  {
   "cell_type": "markdown",
   "metadata": {},
   "source": [
    "<ol><li>Blockquotes</li>\n",
    "<li>Code Section</li>\n",
    "<li>Mathematical Symbol</li>\n",
    "<li>Line Break</li>\n",
    "<li>Bold and Italic Text</li>\n",
    "<li>Horizontal Lines</li>\n",
    "<li>Ordered Lists</li>\n",
    "<li>Unordered Lists</li>\n",
    "<li>Internal and External Links</li>\n",
    "<li>Tables</li>\n",
    "<li>Images</li></ol>"
   ]
  },
  {
   "cell_type": "markdown",
   "metadata": {},
   "source": [
    "<ul><li>Blockquotes</li>\n",
    "<li>Code Section</li>\n",
    "<li>Mathematical Symbol</li>\n",
    "<li>Line Break</li>\n",
    "<li>Bold and Italic Text</li>\n",
    "<li>Horizontal Lines</li>\n",
    "<li>Ordered Lists</li>\n",
    "<li>Unordered Lists</li>\n",
    "<li>Internal and External Links</li>\n",
    "<li>Tables</li>\n",
    "<li>Images</li></ul>"
   ]
  },
  {
   "cell_type": "markdown",
   "metadata": {},
   "source": [
    "<h1>Heading 1</h1>"
   ]
  },
  {
   "cell_type": "markdown",
   "metadata": {},
   "source": [
    "<h2>Heading 2</h2>"
   ]
  },
  {
   "cell_type": "markdown",
   "metadata": {},
   "source": [
    "<h3>Heading 3</h3>"
   ]
  },
  {
   "cell_type": "markdown",
   "metadata": {},
   "source": [
    "<h4>Heading 4</h4>"
   ]
  },
  {
   "cell_type": "markdown",
   "metadata": {},
   "source": [
    "<h5>Heading 5</h5>"
   ]
  },
  {
   "cell_type": "markdown",
   "metadata": {},
   "source": [
    "<h6>Heading 6</h6>"
   ]
  },
  {
   "cell_type": "markdown",
   "metadata": {},
   "source": [
    "# Heading 1"
   ]
  },
  {
   "cell_type": "markdown",
   "metadata": {},
   "source": [
    "## Heading 2"
   ]
  },
  {
   "cell_type": "markdown",
   "metadata": {},
   "source": [
    "### Heading 3"
   ]
  },
  {
   "cell_type": "markdown",
   "metadata": {},
   "source": [
    "#### Heading 4"
   ]
  },
  {
   "cell_type": "markdown",
   "metadata": {},
   "source": [
    "##### Heading 5"
   ]
  },
  {
   "cell_type": "markdown",
   "metadata": {},
   "source": [
    "###### Heading 6"
   ]
  },
  {
   "cell_type": "markdown",
   "metadata": {},
   "source": [
    "  It can seriously result in issues with formatting. \n",
    "  \n",
    "  Definitely, try remain away from indenting in Markdown unless you are dealing with a list."
   ]
  },
  {
   "cell_type": "markdown",
   "metadata": {},
   "source": [
    "<p>First Line<br>\n",
    "Second Line</p>"
   ]
  },
  {
   "cell_type": "markdown",
   "metadata": {},
   "source": [
    "**Bold Text** is Awesome!"
   ]
  },
  {
   "cell_type": "markdown",
   "metadata": {},
   "source": [
    "__Bold Text__ is truly Awesome!"
   ]
  },
  {
   "cell_type": "markdown",
   "metadata": {},
   "source": [
    "The **bold** Markdown."
   ]
  },
  {
   "cell_type": "markdown",
   "metadata": {},
   "source": [
    "The __bold__ Markdown."
   ]
  },
  {
   "cell_type": "markdown",
   "metadata": {},
   "source": [
    "HTML <strong>Bold text</strong> is the best!"
   ]
  },
  {
   "cell_type": "markdown",
   "metadata": {},
   "source": [
    "<strong>HTML</strong> is Amazing, particularly the bold text."
   ]
  },
  {
   "cell_type": "markdown",
   "metadata": {},
   "source": [
    "*Italicized text* is Awesome!"
   ]
  },
  {
   "cell_type": "markdown",
   "metadata": {},
   "source": [
    "Italicized test is *truly* awesome!"
   ]
  },
  {
   "cell_type": "markdown",
   "metadata": {},
   "source": [
    "_Italicized_ text"
   ]
  },
  {
   "cell_type": "markdown",
   "metadata": {},
   "source": [
    "<em>Italicized text</em> in HTML is the best!"
   ]
  },
  {
   "cell_type": "markdown",
   "metadata": {},
   "source": [
    "I love <em>italicized</em> text!"
   ]
  },
  {
   "cell_type": "markdown",
   "metadata": {},
   "source": [
    "***Bold and italicized*** text rule!"
   ]
  },
  {
   "cell_type": "markdown",
   "metadata": {},
   "source": [
    "___Bold and Italicized___ text rule with Underscores!"
   ]
  },
  {
   "cell_type": "markdown",
   "metadata": {},
   "source": [
    "<strong><em>Bold And Italic in HTML</em></strong>"
   ]
  },
  {
   "cell_type": "markdown",
   "metadata": {},
   "source": [
    "This is the shortcut to Markdown!"
   ]
  },
  {
   "cell_type": "markdown",
   "metadata": {},
   "source": [
    "<strong>This is the strong tag for bold.</strong>"
   ]
  },
  {
   "cell_type": "markdown",
   "metadata": {},
   "source": [
    "<b>This is the b tag for bold.</b>"
   ]
  },
  {
   "cell_type": "markdown",
   "metadata": {},
   "source": [
    "<em>This is the em tag for italic.</em>"
   ]
  },
  {
   "cell_type": "markdown",
   "metadata": {},
   "source": [
    "<i>This is the i tag for italic.</i>"
   ]
  },
  {
   "cell_type": "markdown",
   "metadata": {},
   "source": [
    "> I like to code with IPython in Jupyter Notebook!"
   ]
  },
  {
   "cell_type": "markdown",
   "metadata": {},
   "source": [
    "> I love to code in IPython\n",
    ">\n",
    "> The IPython processor is awesome!"
   ]
  },
  {
   "cell_type": "markdown",
   "metadata": {},
   "source": [
    "> Coding With Shawn\n",
    ">\n",
    ">> Python For Beginners\n",
    ">>\n",
    ">>> Python For Beginners Lesson 1\n",
    ">>> \n",
    ">>>> Getting Started With Python\n",
    ">>>>\n",
    ">>>>> Writing Our First Line of Python Code\n",
    ">>>>>\n",
    ">>>>>> \"Hello, World\""
   ]
  },
  {
   "cell_type": "markdown",
   "metadata": {},
   "source": [
    "> #### Round of applause to Google for an amazing fiscal year!\n",
    ">\n",
    "> - Profits were higher than ever.\n",
    "> * Revenue was off the chart.\n",
    ">\n",
    "> *Everything* is going as we **want** it to."
   ]
  },
  {
   "cell_type": "markdown",
   "metadata": {},
   "source": [
    "<h1>Blockquote Finisher</h1>\n",
    "<p>Here is a citiation from Coding With Shawn:</p>\n",
    "\n",
    "<blockquote cite = \"https://www.youtube.com/codingwithshawn\">\n",
    "    For many months, PyCharm has been getting better and better. However, we can all agree that for data science and machine learning, Jupyter Notebook is perhaps on top.\n",
    "</blockquote>"
   ]
  },
  {
   "cell_type": "markdown",
   "metadata": {},
   "source": [
    "1. Sharks\n",
    "9. Large Fish\n",
    "4. Small Fish\n",
    "2. Tiny Fish"
   ]
  },
  {
   "cell_type": "markdown",
   "metadata": {},
   "source": [
    "<ol>\n",
    "<li>Sharks</li>\n",
    "<li>Large Fish</li>\n",
    "<li>Small Fish</li>\n",
    "<li>Tiny Fish</li>\n",
    "</ol>"
   ]
  },
  {
   "cell_type": "markdown",
   "metadata": {},
   "source": [
    "- Sharks\n",
    "- Large Fish\n",
    "- Small Fish\n",
    "- Tiny Fish"
   ]
  },
  {
   "cell_type": "markdown",
   "metadata": {},
   "source": [
    "* Sharks\n",
    "* Large Fish\n",
    "* Small Fish\n",
    "* Tiny Fish"
   ]
  },
  {
   "cell_type": "markdown",
   "metadata": {},
   "source": [
    "+ Sharks\n",
    "+ Large Fish\n",
    "+ Small Fish\n",
    "+ Tiny Fish"
   ]
  },
  {
   "cell_type": "markdown",
   "metadata": {},
   "source": [
    "+ Sharks\n",
    "- Large Fish\n",
    "* Small Fish\n",
    "+ Tiny Fish"
   ]
  },
  {
   "cell_type": "markdown",
   "metadata": {},
   "source": [
    "<ul>\n",
    "<li>Sharks</li>\n",
    "<li>Large Fish</li>\n",
    "<li>Small Fish</li>\n",
    "<li>Tiny Fish</li>\n",
    "</ul>"
   ]
  },
  {
   "cell_type": "markdown",
   "metadata": {},
   "source": [
    "- Sharks\n",
    "- Large Fish\n",
    "- Small Fish\n",
    "- Tiny Fish\n",
    "    - Indented Item\n",
    "    - Indented Item 2\n",
    "- Closing"
   ]
  },
  {
   "cell_type": "markdown",
   "metadata": {},
   "source": [
    "<ul>\n",
    "<li>Sharks</li>\n",
    "<li>Large Fish</li>\n",
    "<ul>\n",
    "    <li>Indented Item</li>\n",
    "    <li>Indented Item 2</li>\n",
    "    </ul>\n",
    "<li>Small Fish</li>\n",
    "<li>Tiny Fish</li>\n",
    "</ul>"
   ]
  },
  {
   "cell_type": "markdown",
   "metadata": {},
   "source": [
    "+ N Value\n",
    "- N Value\n",
    "* N Value"
   ]
  },
  {
   "cell_type": "markdown",
   "metadata": {},
   "source": [
    "- N Value\n",
    "- N Value\n",
    "- N Value"
   ]
  },
  {
   "cell_type": "markdown",
   "metadata": {},
   "source": [
    "* This is item 1\n",
    "* This is item 2\n",
    "\n",
    "     Another Paragraph below item 2\n",
    "\n",
    "* This is item 3"
   ]
  },
  {
   "cell_type": "markdown",
   "metadata": {},
   "source": [
    "* This is item 1\n",
    "* This is item 2\n",
    "\n",
    "     > Another Paragraph below item 2\n",
    "\n",
    "* This is item 3"
   ]
  },
  {
   "cell_type": "markdown",
   "metadata": {},
   "source": [
    "1. Open the file.\n",
    "2. Find the code block:\n",
    " \n",
    "         <html>\n",
    "          <head>\n",
    "            <title>Testing</title>\n",
    "          </head>\n",
    "3. Update the title.\n",
    "4. Celebrate"
   ]
  },
  {
   "cell_type": "markdown",
   "metadata": {},
   "source": [
    "1. Open the image of ------\n",
    "2. Marvel at how amazing it looks.\n",
    "\n",
    "    ![220px-Tux.png](attachment:220px-Tux.png)\n",
    "    \n",
    "3. Close it."
   ]
  },
  {
   "cell_type": "markdown",
   "metadata": {},
   "source": [
    "When programming, use `backticks to denote code.`"
   ]
  },
  {
   "cell_type": "markdown",
   "metadata": {},
   "source": [
    "When programming use <code>backticks to denote code.</code>"
   ]
  },
  {
   "cell_type": "markdown",
   "metadata": {},
   "source": [
    "``Use `code` in your Markdown document``"
   ]
  },
  {
   "cell_type": "markdown",
   "metadata": {},
   "source": [
    "    <html>\n",
    "      <head>\n",
    "      </head>\n",
    "    </html>"
   ]
  },
  {
   "cell_type": "markdown",
   "metadata": {},
   "source": [
    "***"
   ]
  },
  {
   "cell_type": "markdown",
   "metadata": {},
   "source": [
    "---"
   ]
  },
  {
   "cell_type": "markdown",
   "metadata": {},
   "source": [
    "___"
   ]
  },
  {
   "cell_type": "markdown",
   "metadata": {},
   "source": [
    "Try to put a blank line beforehand...\n",
    "\n",
    "---\n",
    "\n",
    "...and after a given horizontal line."
   ]
  },
  {
   "cell_type": "markdown",
   "metadata": {},
   "source": [
    "Without blank lines, this is a heading.\n",
    "----\n",
    "REFRAIN FROM DOING THIS!"
   ]
  },
  {
   "cell_type": "markdown",
   "metadata": {},
   "source": [
    "My favorite YouTube channel is [Coding With Shawn](https://www.youtube.com/codingwithshawn)."
   ]
  },
  {
   "cell_type": "markdown",
   "metadata": {},
   "source": [
    "My favorite YouTube channel is [Coding With Shawn](https://www.youtube.com/codingwithshawn \"The best channel to learn how to code\")."
   ]
  },
  {
   "cell_type": "markdown",
   "metadata": {},
   "source": [
    "<https://www.youtube.com/codingwithshawn>  \n",
    "<example@example.com>"
   ]
  },
  {
   "cell_type": "markdown",
   "metadata": {},
   "source": [
    "I love supporting the **[WHO](https://who.int)**.\n",
    "This is *[Markdown Part 2](https://youtube.com/codingwithshawn)*.\n",
    "See the part on [`Markdown`](#code)."
   ]
  },
  {
   "cell_type": "markdown",
   "metadata": {},
   "source": [
    "[1]: https://youtube.com/codingwithshawn"
   ]
  },
  {
   "cell_type": "markdown",
   "metadata": {},
   "source": [
    "[1]: https://youtube.com/codingwithshawn \"Coding With Shawn\""
   ]
  },
  {
   "cell_type": "markdown",
   "metadata": {},
   "source": [
    "[Coding With Shawn] [1]"
   ]
  },
  {
   "cell_type": "markdown",
   "metadata": {},
   "source": [
    "[1]: https://www.youtube.com/codingwithshawn \"Coding With Shawn\""
   ]
  },
  {
   "cell_type": "markdown",
   "metadata": {},
   "source": [
    "For many months, PyCharm has been getting better and better. However, we can all agree that for data science and machine learning, Jupyter Notebook is perhaps on top.\n",
    "[1]: <https://www.youtube.com/codingwithshawn> \"Coding With Shawn\""
   ]
  },
  {
   "cell_type": "markdown",
   "metadata": {},
   "source": [
    "For many months, PyCharm has been getting better and better. However, we can all agree that for data science and machine learning, Jupyter Notebook is perhaps on top.\n",
    "<a href= \"https://www.youtube.com/codingwithshawn\" title = \"Coding With Shawn\">CWS</a>"
   ]
  },
  {
   "cell_type": "markdown",
   "metadata": {},
   "source": [
    "www.example.com/awesome%20content%20here"
   ]
  },
  {
   "attachments": {
    "yt_1200.png": {
     "image/png": "[encoded data removed]"
    }
   },
   "cell_type": "markdown",
   "metadata": {},
   "source": [
    "![yt_1200.png](attachment:yt_1200.png)"
   ]
  },
  {
   "cell_type": "markdown",
   "metadata": {},
   "source": [
    "<img src = \"https://www.youtube.com/img/desktop/yt_1200.png\">"
   ]
  },
  {
   "cell_type": "markdown",
   "metadata": {},
   "source": [
    "\\* Without this backslash, this would be a bullet in an unordered list."
   ]
  },
  {
   "cell_type": "code",
   "execution_count": 18,
   "metadata": {},
   "outputs": [],
   "source": [
    "#\\ = backslash\n",
    "#` = backtick\n",
    "#* = asterisk\n",
    "#_ = underscore\n",
    "#{} = curly braces\n",
    "#[] = brackets\n",
    "#() = parentheses \n",
    "# = pound/hash sign\n",
    "#+ = plus sign\n",
    "#- = minus sign/dash/hyphen\n",
    "#. = period/dot\n",
    "#! = exclamation point/mark\n",
    "#| = pipe"
   ]
  },
  {
   "cell_type": "markdown",
   "metadata": {},
   "source": [
    "This **word** is bold. This <em>word</em> is italic."
   ]
  },
  {
   "cell_type": "code",
   "execution_count": 19,
   "metadata": {},
   "outputs": [],
   "source": [
    "#<div>\n",
    "#<table>\n",
    "#<pre>\n",
    "#<p>"
   ]
  },
  {
   "cell_type": "markdown",
   "metadata": {},
   "source": [
    "<p>italic and **bold**</p>"
   ]
  },
  {
   "cell_type": "code",
   "execution_count": null,
   "metadata": {},
   "outputs": [],
   "source": []
  }
 ],
 "metadata": {
  "kernelspec": {
   "display_name": "Python 3",
   "language": "python",
   "name": "python3"
  },
  "language_info": {
   "codemirror_mode": {
    "name": "ipython",
    "version": 3
   },
   "file_extension": ".py",
   "mimetype": "text/x-python",
   "name": "python",
   "nbconvert_exporter": "python",
   "pygments_lexer": "ipython3",
   "version": "3.8.3"
  }
 },
 "nbformat": 4,
 "nbformat_minor": 4
}
