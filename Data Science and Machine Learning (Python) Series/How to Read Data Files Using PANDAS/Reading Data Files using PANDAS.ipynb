{
 "cells": [
  {
   "cell_type": "markdown",
   "id": "a825255d",
   "metadata": {},
   "source": [
    "<img src = https://i.imgur.com/37LETOR.png>"
   ]
  },
  {
   "cell_type": "markdown",
   "id": "0949e5e9",
   "metadata": {},
   "source": [
    "**CSV (comma-separated value)** files are a common file format for transferring and storing data. The ability to read, manipulate, and write data to and from CSV files using Python is a key skill to master for any data scientist or automation engineer. In this video, we’ll go over what CSV files are, how to read CSV files into Pandas DataFrames, and the pros and cons of using CSV files."
   ]
  },
  {
   "cell_type": "markdown",
   "id": "af938ebf",
   "metadata": {},
   "source": [
    "There's a file called cereal.csv that contains nutrition data on 80 cereals that you need to download beforehand. Do that [here](https://github.com/codingwithshawnyt/codingwithshawn/tree/main/Data%20Science%20and%20Machine%20Learning%20(Python)%20Series/How%20to%20Read%20Data%20Files%20Using%20PANDAS)."
   ]
  },
  {
   "cell_type": "markdown",
   "id": "2fcbeca7",
   "metadata": {},
   "source": [
    "<h3>The first step to working with comma-separated-value (CSV) files is understanding the concept of file types and file extensions.</h3>"
   ]
  },
  {
   "cell_type": "markdown",
   "id": "b67f6834",
   "metadata": {},
   "source": [
    "Data is stored on your computer in individual “files”, or containers, each with a different name. Each file contains data of different types – the internals of a Jupyter Notebook (.ipynb) is quite different from the internals of an MS Word Document."
   ]
  },
  {
   "cell_type": "markdown",
   "id": "8e98d896",
   "metadata": {},
   "source": [
    "Computers determine how to read files using the “file extension”, that is the code that follows the dot (“.”) in the filename.\n"
   ]
  },
  {
   "cell_type": "markdown",
   "id": "9ce27e12",
   "metadata": {},
   "source": [
    "So, a filename is typically in the form \"random-name.file-extension”. Examples:"
   ]
  },
  {
   "cell_type": "markdown",
   "id": "0178f2bf",
   "metadata": {},
   "source": [
    "* <b>project1.DOCX</b> - an Word Doc called project1\n",
    "* <b>CodingWithShawn.txt</b> - a text file named CodingWithShawn\n",
    "* <b>Linux_Tux.jpg</b> - an image file of Linux's Mascot, Tux  \n",
    "Other well known file types and extensions include: XLSX: Excel, PDF: Portable Document Format, PNG – images, ZIP – compressed file format, GIF – animation, MPEG – video, MP3 – music etc."
   ]
  },
  {
   "cell_type": "markdown",
   "id": "bf3a0c7c",
   "metadata": {},
   "source": [
    "A CSV file is a file with a “.csv” file extension, e.g. “data.csv”, “super_information.csv”. The “CSV” in this case lets the computer know that the data contained in the file is in “comma separated value” format, which we’ll discuss below.\n"
   ]
  },
  {
   "cell_type": "markdown",
   "id": "deb26aa1",
   "metadata": {},
   "source": [
    "File extensions are hidden by default on a lot of operating systems. The first step that any self-respecting engineer, software engineer, or data scientist will do on a new computer is to ensure that file extensions are shown in their Explorer (Windows) or Finder (Mac)."
   ]
  },
  {
   "cell_type": "markdown",
   "id": "1a5c39cb",
   "metadata": {},
   "source": [
    "<figure>\n",
    "  <img src=\"https://i.imgur.com/11wqIme.png\" alt=\"A picture of where extensions are located in Windows' File Explorer\" style=\"width:100%\">\n",
    "  <figcaption>A picture of where extensions are located in Windows' File Explorer</figcaption>\n",
    "</figure>"
   ]
  },
  {
   "cell_type": "code",
   "execution_count": null,
   "id": "9b1b4a7b",
   "metadata": {},
   "outputs": [],
   "source": [
    "# Load the Pandas libraries with alias 'pd' \n",
    "import pandas as pd \n",
    " \n",
    "# Read data from file 'filename.csv' \n",
    "# (in the same directory that your python process is based)\n",
    "# Control delimiters, rows, column names with read_csv (see later) \n",
    "df = pd.read_csv(\"cereal.csv\") \n",
    " \n",
    "# Preview the first 5 lines of the loaded data \n",
    "df.head()"
   ]
  },
  {
   "cell_type": "markdown",
   "id": "b2155927",
   "metadata": {},
   "source": [
    "<h3>Possible Parsing Errors</h3>"
   ]
  },
  {
   "cell_type": "markdown",
   "id": "c4f9bc8b",
   "metadata": {},
   "source": [
    "<ol><li><code data-enlighter-language=\"python\">FileNotFoundError:&nbsp;File b'filename.csv' does not exist</code><br>A File Not Found error is typically an issue with path setup, current directory, or file name confusion (file extension can play a part here!)</li><li><code data-enlighter-language=\"python\">UnicodeDecodeError:&nbsp;'utf-8' codec can't decode byte  in position : invalid continuation byte</code><br>A Unicode Decode Error is typically caused by not specifying the encoding of the file, and happens when you have a file with non-standard characters. For a quick fix, try opening the file in <a href=\"https://www.sublimetext.com\">Sublime Text</a>, and re-saving with encoding ‘UTF-8’.</li><li><code data-enlighter-language=\"python\">pandas.parser.CParserError: Error tokenizing data.</code><br>Parse Errors can be caused in unusual circumstances to do with your data format – try to add the parameter “engine=’python'” to the read_csv function call; this changes the data reading function internally to a slower but more stable method.</li></ol>"
   ]
  },
  {
   "cell_type": "markdown",
   "id": "6ca699a3",
   "metadata": {},
   "source": [
    "<h3>Advanced Concepts</h3>"
   ]
  },
  {
   "cell_type": "markdown",
   "id": "4716e2b0",
   "metadata": {},
   "source": [
    "<p>There are some additional flexible parameters in the Pandas read_csv() function that are useful to have in your arsenal of data science techniques:</p>"
   ]
  },
  {
   "cell_type": "markdown",
   "id": "a78faf21",
   "metadata": {},
   "source": [
    "**Specifying Data Types:**\n",
    "<p>As mentioned before, CSV files do not contain any type information for data. Data types are inferred through examination of the top rows of the file, which can lead to errors. To manually specify the data types for different columns, the&nbsp;<strong>dtype</strong> parameter can be used with a dictionary of column names and data types to be applied, for example:\n",
    "    <span class=\"enlighter\"><span class=\"enlighter-text\">dtype=</span><span class=\"enlighter-g1\">{</span><span class=\"enlighter-s0\">\"name\"</span><span class=\"enlighter-text\">: str, </span><span class=\"enlighter-s0\">\"age\"</span><span class=\"enlighter-text\">: np.int32</span><span class=\"enlighter-g1\">}</span></span>"
   ]
  },
  {
   "cell_type": "markdown",
   "id": "181a2e6a",
   "metadata": {},
   "source": [
    "<p>Note that for dates and date times, the format, columns, and other behaviour can be adjusted using <strong>parse_dates</strong>, <strong>date_parser</strong>, <strong>dayfirst</strong>, <strong>keep_date&nbsp;</strong>parameters.</p>"
   ]
  },
  {
   "cell_type": "markdown",
   "id": "3415d05b",
   "metadata": {},
   "source": [
    "**Skipping and Picking Rows and Columns From File:**\n",
    "<p>The&nbsp;<strong>nrows</strong> parameter specifies how many rows from the top of CSV file to read, which is useful to take a sample of a large file without loading completely. Similarly the&nbsp;<b>skiprows&nbsp;</b>parameter allows you to specify rows to leave out, either at the start of the file (provide an int), or throughout the file (provide a list of row indices). Similarly, the&nbsp;<strong>usecols&nbsp;</strong>parameter can be used to specify which columns in the data to load.</p>"
   ]
  },
  {
   "cell_type": "markdown",
   "id": "c1b83099",
   "metadata": {},
   "source": [
    "**Custom Missing Value Symbols:**\n",
    "<p>When data is exported to CSV from different systems, missing values can be specified with different tokens. The&nbsp;<strong>na_values</strong> parameter allows you to customise the characters that are recognised as missing values. The default values interpreted as NA/NaN are:&nbsp;‘’, ‘#N/A’, ‘#N/A N/A’, ‘#NA’, ‘-1.#IND’, ‘-1.#QNAN’, ‘-NaN’, ‘-nan’, ‘1.#IND’, ‘1.#QNAN’, ‘N/A’, ‘NA’, ‘NULL’, ‘NaN’, ‘n/a’, ‘nan’, ‘null’.</p>"
   ]
  },
  {
   "cell_type": "code",
   "execution_count": null,
   "id": "d9881a35",
   "metadata": {},
   "outputs": [],
   "source": [
    "# Advanced CSV loading example\n",
    "'''\n",
    "data = pd.read_csv(\n",
    "    \"data/files/complex_data_example.tsv\",      # relative python path to subdirectory\n",
    "    sep='\\t'           # Tab-separated value file.\n",
    "    quotechar=\"'\",        # single quote allowed as quote character\n",
    "    dtype={\"salary\": int},             # Parse the salary column as an integer \n",
    "    usecols=['name', 'birth_date', 'salary'].   # Only load the three columns specified.\n",
    "    parse_dates=['birth_date'],     # Intepret the birth_date column as a date\n",
    "    skiprows=10,         # Skip the first 10 rows of the file\n",
    "    na_values=['.', '??']       # Take any '.' or '??' values as NA\n",
    ")\n",
    "'''"
   ]
  },
  {
   "cell_type": "markdown",
   "id": "3b749077",
   "metadata": {},
   "source": [
    "<h3>CSV Format Advantages and Disadvantages</h3>"
   ]
  },
  {
   "cell_type": "markdown",
   "id": "6463f14b",
   "metadata": {},
   "source": [
    "As with all technical decisions, storing your data in CSV format has both advantages and disadvantages. Be aware of the potential pitfalls and issues that you will encounter as you load, store, and exchange data in CSV format:\n",
    "\n"
   ]
  },
  {
   "cell_type": "markdown",
   "id": "ff966bfb",
   "metadata": {},
   "source": [
    "Pros:\n",
    "    <ul><li>CSV format is universal and the data can be loaded by almost any software.</li><li>CSV files are simple to understand and debug with a basic text editor</li><li>CSV files are quick to create and load into memory before analysis.</li></ul>  \n",
    "Cons:\n",
    "<ul><li>There is no data type information stored in the text file, all typing (dates, int vs float, strings) are inferred from the data only.</li><li>There’s no formatting or layout information storable – things like fonts, borders, column width settings from Microsoft Excel will be lost.</li><li>File encodings can become a problem if there are non-ASCII compatible characters in text fields.</li><li>CSV format is inefficient; numbers are stored as characters rather than binary values, which is wasteful. You will find however that your CSV data compresses well using <a href=\"https://en.wikipedia.org/wiki/Zip_(file_format)\">zip compression</a>.</li></ul>"
   ]
  },
  {
   "cell_type": "markdown",
   "id": "7d51d820",
   "metadata": {},
   "source": [
    "<h4>Final Thoughts:</h4>\n",
    "<p>Although the CSV file is one of the most common formats for storing data, there are other file types that the modern-day data scientist must be familiar with. You now have a good sense of how useful <code>pandas</code> is when importing the CSV file, and conveniently, <code>pandas</code> offers other similar and equally handy functions to import Excel, SAS, and Stata files to name a few.</p>"
   ]
  },
  {
   "cell_type": "code",
   "execution_count": null,
   "id": "0b84ad21",
   "metadata": {},
   "outputs": [],
   "source": []
  }
 ],
 "metadata": {
  "kernelspec": {
   "display_name": "Python 3",
   "language": "python",
   "name": "python3"
  },
  "language_info": {
   "codemirror_mode": {
    "name": "ipython",
    "version": 3
   },
   "file_extension": ".py",
   "mimetype": "text/x-python",
   "name": "python",
   "nbconvert_exporter": "python",
   "pygments_lexer": "ipython3",
   "version": "3.8.8"
  }
 },
 "nbformat": 4,
 "nbformat_minor": 5
}
